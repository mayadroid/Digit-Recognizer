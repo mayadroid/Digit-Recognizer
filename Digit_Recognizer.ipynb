{
  "cells": [
    {
      "cell_type": "code",
      "execution_count": null,
      "metadata": {
        "id": "toQLpaAu_WVK"
      },
      "outputs": [],
      "source": [
        "import pandas as pd\n",
        "import numpy as np\n",
        "import matplotlib.pyplot as plt\n",
        "%matplotlib inline\n",
        "\n",
        "np.random.seed(12345)\n",
        "\n",
        "from sklearn.model_selection import train_test_split\n",
        "\n",
        "from keras.utils.np_utils import to_categorical\n",
        "from keras.models import Sequential\n",
        "from keras.layers import Dense, Dropout, Flatten, Conv2D, MaxPool2D, BatchNormalization\n",
        "from keras.preprocessing.image import ImageDataGenerator\n",
        "from keras.callbacks import ReduceLROnPlateau\n",
        "from google.colab import files"
      ]
    },
    {
      "cell_type": "code",
      "execution_count": null,
      "metadata": {
        "id": "_sIHYaIa_9Tf"
      },
      "outputs": [],
      "source": [
        "train = pd.read_csv(\"/content/drive/MyDrive/Colab Notebooks/train.csv\")\n",
        "test = pd.read_csv(\"/content/drive/MyDrive/Colab Notebooks/test.csv\")"
      ]
    },
    {
      "cell_type": "code",
      "execution_count": null,
      "metadata": {
        "id": "8CbiQE5IAj0W"
      },
      "outputs": [],
      "source": [
        "out_train = train[\"label\"]\n",
        "in_train = train.drop(labels = [\"label\"],axis = 1) \n",
        "#free memory\n",
        "del train"
      ]
    },
    {
      "cell_type": "code",
      "execution_count": null,
      "metadata": {
        "colab": {
          "base_uri": "https://localhost:8080/"
        },
        "id": "dxuC0biwAlRk",
        "outputId": "a4bf129c-677d-4a1b-8a35-aef7ba131e8c"
      },
      "outputs": [
        {
          "output_type": "execute_result",
          "data": {
            "text/plain": [
              "count       784\n",
              "unique        1\n",
              "top       False\n",
              "freq        784\n",
              "dtype: object"
            ]
          },
          "metadata": {},
          "execution_count": 4
        }
      ],
      "source": [
        "#checking for nulls in train\n",
        "in_train.isnull().any().describe()"
      ]
    },
    {
      "cell_type": "code",
      "execution_count": null,
      "metadata": {
        "colab": {
          "base_uri": "https://localhost:8080/"
        },
        "id": "B2kbjaBbApqy",
        "outputId": "75a2fe37-abdc-4f32-9bd9-3ba2e08c73eb"
      },
      "outputs": [
        {
          "output_type": "execute_result",
          "data": {
            "text/plain": [
              "count       784\n",
              "unique        1\n",
              "top       False\n",
              "freq        784\n",
              "dtype: object"
            ]
          },
          "metadata": {},
          "execution_count": 5
        }
      ],
      "source": [
        "#checking for nulls in test\n",
        "test.isnull().any().describe()"
      ]
    },
    {
      "cell_type": "code",
      "execution_count": null,
      "metadata": {
        "id": "_M1mDgQvAp0M"
      },
      "outputs": [],
      "source": [
        "#normalize the data\n",
        "in_train = in_train / 255.0\n",
        "test = test / 255.0"
      ]
    },
    {
      "cell_type": "code",
      "execution_count": null,
      "metadata": {
        "id": "K8g3WoxCAt-V"
      },
      "outputs": [],
      "source": [
        "#reshape image\n",
        "in_train = in_train.values.reshape(-1,28,28,1)\n",
        "test = test.values.reshape(-1,28,28,1)"
      ]
    },
    {
      "cell_type": "code",
      "execution_count": null,
      "metadata": {
        "id": "yWQGRN-wAysa"
      },
      "outputs": [],
      "source": [
        "#convert to categorical\n",
        "out_train = to_categorical(out_train, num_classes = 10)"
      ]
    },
    {
      "cell_type": "code",
      "execution_count": null,
      "metadata": {
        "id": "E8C6Ax6ZA3cp"
      },
      "outputs": [],
      "source": [
        "#set the random seed\n",
        "random_seed = 12345"
      ]
    },
    {
      "cell_type": "code",
      "execution_count": null,
      "metadata": {
        "id": "r0ano0XjA4yz"
      },
      "outputs": [],
      "source": [
        "#split the train and test set\n",
        "in_train, in_valid, out_train, out_valid = train_test_split(in_train, out_train, test_size = 0.3, random_state=random_seed)"
      ]
    },
    {
      "cell_type": "code",
      "execution_count": null,
      "metadata": {
        "id": "vwQBHDgxBqUZ"
      },
      "outputs": [],
      "source": [
        "#CNN modelling\n",
        "\n",
        "model = Sequential()\n",
        "\n",
        "model.add(Conv2D(filters = 32, kernel_size = (5,5),padding = 'Same', \n",
        "                 activation ='relu', input_shape = (28,28,1)))\n",
        "model.add(Conv2D(filters = 32, kernel_size = (5,5),padding = 'Same', \n",
        "                 activation ='relu'))\n",
        "model.add(MaxPool2D(pool_size=(2,2), strides=(2,2)))\n",
        "model.add(MaxPool2D(pool_size=(2,2), strides=(2,2)))\n",
        "model.add(BatchNormalization())\n",
        "model.add(Dropout(0.05))\n",
        "\n",
        "\n",
        "model.add(Conv2D(filters = 64, kernel_size = (3,3),padding = 'Same', \n",
        "                 activation ='relu'))\n",
        "model.add(Conv2D(filters = 64, kernel_size = (3,3),padding = 'Same', \n",
        "                 activation ='relu'))\n",
        "model.add(MaxPool2D(pool_size=(2,2), strides=(2,2)))\n",
        "model.add(MaxPool2D(pool_size=(2,2), strides=(2,2)))\n",
        "model.add(BatchNormalization())\n",
        "model.add(Dropout(0.05))\n",
        "\n",
        "\n",
        "model.add(Flatten())\n",
        "model.add(Dense(256, activation = \"relu\"))\n",
        "model.add(Dropout(0.1))\n",
        "model.add(Dense(10, activation = \"softmax\"))"
      ]
    },
    {
      "cell_type": "code",
      "execution_count": null,
      "metadata": {
        "id": "xK2e4cM9MbEB"
      },
      "outputs": [],
      "source": [
        "model.compile(optimizer = \"adam\" , loss = \"categorical_crossentropy\", metrics=[\"accuracy\"])"
      ]
    },
    {
      "cell_type": "code",
      "execution_count": null,
      "metadata": {
        "id": "53PXqME9COMf"
      },
      "outputs": [],
      "source": [
        "#learning rate reduction\n",
        "LR_reduction = ReduceLROnPlateau(monitor='val_accuracy', \n",
        "                                            patience=3, \n",
        "                                            verbose=1, \n",
        "                                            factor=0.3, \n",
        "                                            min_lr=0.00001)"
      ]
    },
    {
      "cell_type": "code",
      "execution_count": null,
      "metadata": {
        "id": "PjA3z4iUCY9z"
      },
      "outputs": [],
      "source": [
        "#data augmentation to randomly modify images\n",
        "data_aug = ImageDataGenerator(\n",
        "        rotation_range=10,\n",
        "        zoom_range = 0.1, \n",
        "        width_shift_range=0.1,\n",
        "        height_shift_range=0.1,\n",
        "        horizontal_flip=False)\n",
        "\n",
        "data_aug.fit(in_train)\n"
      ]
    },
    {
      "cell_type": "code",
      "execution_count": null,
      "metadata": {
        "id": "XpujFTL9CR__"
      },
      "outputs": [],
      "source": [
        "epochs = 20\n",
        "batch_size = 60"
      ]
    },
    {
      "cell_type": "code",
      "execution_count": null,
      "metadata": {
        "colab": {
          "base_uri": "https://localhost:8080/"
        },
        "id": "FyGl0M0LCclW",
        "outputId": "6063ccf7-eeca-49b2-e43c-e13c7e66d550"
      },
      "outputs": [
        {
          "output_type": "stream",
          "name": "stdout",
          "text": [
            "Epoch 1/20\n",
            "490/490 - 8s - loss: 0.0470 - accuracy: 0.9855 - val_loss: 0.0556 - val_accuracy: 0.9830 - lr: 0.0010 - 8s/epoch - 17ms/step\n",
            "Epoch 2/20\n",
            "490/490 - 8s - loss: 0.0408 - accuracy: 0.9873 - val_loss: 0.0650 - val_accuracy: 0.9812 - lr: 0.0010 - 8s/epoch - 17ms/step\n",
            "Epoch 3/20\n",
            "490/490 - 8s - loss: 0.0396 - accuracy: 0.9877 - val_loss: 0.0652 - val_accuracy: 0.9818 - lr: 0.0010 - 8s/epoch - 17ms/step\n",
            "Epoch 4/20\n",
            "490/490 - 9s - loss: 0.0374 - accuracy: 0.9879 - val_loss: 0.0476 - val_accuracy: 0.9859 - lr: 0.0010 - 9s/epoch - 18ms/step\n",
            "Epoch 5/20\n",
            "490/490 - 9s - loss: 0.0358 - accuracy: 0.9887 - val_loss: 0.0572 - val_accuracy: 0.9835 - lr: 0.0010 - 9s/epoch - 17ms/step\n",
            "Epoch 6/20\n",
            "490/490 - 9s - loss: 0.0302 - accuracy: 0.9905 - val_loss: 0.0388 - val_accuracy: 0.9902 - lr: 0.0010 - 9s/epoch - 17ms/step\n",
            "Epoch 7/20\n",
            "490/490 - 10s - loss: 0.0323 - accuracy: 0.9895 - val_loss: 0.0349 - val_accuracy: 0.9917 - lr: 0.0010 - 10s/epoch - 20ms/step\n",
            "Epoch 8/20\n",
            "490/490 - 8s - loss: 0.0295 - accuracy: 0.9904 - val_loss: 0.0403 - val_accuracy: 0.9897 - lr: 0.0010 - 8s/epoch - 17ms/step\n",
            "Epoch 9/20\n",
            "490/490 - 9s - loss: 0.0310 - accuracy: 0.9897 - val_loss: 0.0402 - val_accuracy: 0.9889 - lr: 0.0010 - 9s/epoch - 17ms/step\n",
            "Epoch 10/20\n",
            "\n",
            "Epoch 10: ReduceLROnPlateau reducing learning rate to 0.0003000000142492354.\n",
            "490/490 - 9s - loss: 0.0293 - accuracy: 0.9907 - val_loss: 0.0306 - val_accuracy: 0.9917 - lr: 0.0010 - 9s/epoch - 18ms/step\n",
            "Epoch 11/20\n",
            "490/490 - 8s - loss: 0.0180 - accuracy: 0.9937 - val_loss: 0.0250 - val_accuracy: 0.9940 - lr: 3.0000e-04 - 8s/epoch - 17ms/step\n",
            "Epoch 12/20\n",
            "490/490 - 9s - loss: 0.0142 - accuracy: 0.9953 - val_loss: 0.0266 - val_accuracy: 0.9932 - lr: 3.0000e-04 - 9s/epoch - 18ms/step\n",
            "Epoch 13/20\n",
            "490/490 - 8s - loss: 0.0142 - accuracy: 0.9956 - val_loss: 0.0258 - val_accuracy: 0.9938 - lr: 3.0000e-04 - 8s/epoch - 17ms/step\n",
            "Epoch 14/20\n",
            "\n",
            "Epoch 14: ReduceLROnPlateau reducing learning rate to 9.000000427477062e-05.\n",
            "490/490 - 9s - loss: 0.0134 - accuracy: 0.9953 - val_loss: 0.0257 - val_accuracy: 0.9936 - lr: 3.0000e-04 - 9s/epoch - 17ms/step\n",
            "Epoch 15/20\n",
            "490/490 - 8s - loss: 0.0125 - accuracy: 0.9961 - val_loss: 0.0255 - val_accuracy: 0.9942 - lr: 9.0000e-05 - 8s/epoch - 17ms/step\n",
            "Epoch 16/20\n",
            "490/490 - 9s - loss: 0.0105 - accuracy: 0.9968 - val_loss: 0.0244 - val_accuracy: 0.9942 - lr: 9.0000e-05 - 9s/epoch - 17ms/step\n",
            "Epoch 17/20\n",
            "490/490 - 8s - loss: 0.0103 - accuracy: 0.9965 - val_loss: 0.0248 - val_accuracy: 0.9943 - lr: 9.0000e-05 - 8s/epoch - 17ms/step\n",
            "Epoch 18/20\n",
            "\n",
            "Epoch 18: ReduceLROnPlateau reducing learning rate to 2.700000040931627e-05.\n",
            "490/490 - 8s - loss: 0.0099 - accuracy: 0.9964 - val_loss: 0.0252 - val_accuracy: 0.9943 - lr: 9.0000e-05 - 8s/epoch - 17ms/step\n",
            "Epoch 19/20\n",
            "490/490 - 8s - loss: 0.0099 - accuracy: 0.9967 - val_loss: 0.0248 - val_accuracy: 0.9945 - lr: 2.7000e-05 - 8s/epoch - 17ms/step\n",
            "Epoch 20/20\n",
            "490/490 - 8s - loss: 0.0096 - accuracy: 0.9969 - val_loss: 0.0245 - val_accuracy: 0.9947 - lr: 2.7000e-05 - 8s/epoch - 17ms/step\n"
          ]
        }
      ],
      "source": [
        "#fit the model\n",
        "model_fit = model.fit(data_aug.flow(in_train,out_train, batch_size=batch_size),\n",
        "                              epochs = epochs, validation_data = (in_valid,out_valid),\n",
        "                              verbose = 2, steps_per_epoch=in_train.shape[0] // batch_size\n",
        "                              , callbacks=[LR_reduction])"
      ]
    },
    {
      "cell_type": "code",
      "execution_count": null,
      "metadata": {
        "colab": {
          "base_uri": "https://localhost:8080/",
          "height": 265
        },
        "id": "NK_sc7MjFGys",
        "outputId": "067d806a-a45b-4b6f-8ca2-b5003edac791"
      },
      "outputs": [
        {
          "output_type": "display_data",
          "data": {
            "text/plain": [
              "<Figure size 432x288 with 2 Axes>"
            ],
            "image/png": "[encoded data removed]"
          },
          "metadata": {
            "needs_background": "light"
          }
        }
      ],
      "source": [
        "#plot loss and accuracy\n",
        "fig, ax = plt.subplots(2,1)\n",
        "ax[0].plot(model_fit.history['loss'], color='b', label=\"Training loss\")\n",
        "ax[0].plot(model_fit.history['val_loss'], color='r', label=\"Validation loss\",axes =ax[0])\n",
        "legend = ax[0].legend(loc='best', shadow=True)\n",
        "\n",
        "ax[1].plot(model_fit.history['accuracy'], color='b', label=\"Training accuracy\")\n",
        "ax[1].plot(model_fit.history['val_accuracy'], color='r',label=\"Validation accuracy\")\n",
        "legend = ax[1].legend(loc='best', shadow=True)"
      ]
    },
    {
      "cell_type": "code",
      "source": [
        "#predict results\n",
        "results = model.predict(test)\n",
        "\n",
        "#select the indix with the maximum probability\n",
        "results = np.argmax(results,axis = 1)\n",
        "results = pd.Series(results,name=\"Label\")"
      ],
      "metadata": {
        "id": "tKbHpnMUCHzi"
      },
      "execution_count": null,
      "outputs": []
    },
    {
      "cell_type": "code",
      "source": [
        "submission = pd.concat([pd.Series(range(1,28001),name = \"ImageId\"),results],axis = 1)\n",
        "submission.to_csv(\"BD_Project_Keras_Team31_3.csv\",index=False)"
      ],
      "metadata": {
        "id": "PYHbVWE3CQ87"
      },
      "execution_count": null,
      "outputs": []
    },
    {
      "cell_type": "code",
      "source": [
        "files.download(\"BD_Project_Keras_Team31_3.csv\")"
      ],
      "metadata": {
        "colab": {
          "base_uri": "https://localhost:8080/",
          "height": 17
        },
        "id": "ooJ3tYhDDLxl",
        "outputId": "486f1e8a-308f-4a61-d9dd-551a5e2d2a07"
      },
      "execution_count": null,
      "outputs": [
        {
          "output_type": "display_data",
          "data": {
            "text/plain": [
              "<IPython.core.display.Javascript object>"
            ],
            "application/javascript": [
              "\n",
              "    async function download(id, filename, size) {\n",
              "      if (!google.colab.kernel.accessAllowed) {\n",
              "        return;\n",
              "      }\n",
              "      const div = document.createElement('div');\n",
              "      const label = document.createElement('label');\n",
              "      label.textContent = `Downloading \"${filename}\": `;\n",
              "      div.appendChild(label);\n",
              "      const progress = document.createElement('progress');\n",
              "      progress.max = size;\n",
              "      div.appendChild(progress);\n",
              "      document.body.appendChild(div);\n",
              "\n",
              "      const buffers = [];\n",
              "      let downloaded = 0;\n",
              "\n",
              "      const channel = await google.colab.kernel.comms.open(id);\n",
              "      // Send a message to notify the kernel that we're ready.\n",
              "      channel.send({})\n",
              "\n",
              "      for await (const message of channel.messages) {\n",
              "        // Send a message to notify the kernel that we're ready.\n",
              "        channel.send({})\n",
              "        if (message.buffers) {\n",
              "          for (const buffer of message.buffers) {\n",
              "            buffers.push(buffer);\n",
              "            downloaded += buffer.byteLength;\n",
              "            progress.value = downloaded;\n",
              "          }\n",
              "        }\n",
              "      }\n",
              "      const blob = new Blob(buffers, {type: 'application/binary'});\n",
              "      const a = document.createElement('a');\n",
              "      a.href = window.URL.createObjectURL(blob);\n",
              "      a.download = filename;\n",
              "      div.appendChild(a);\n",
              "      a.click();\n",
              "      div.remove();\n",
              "    }\n",
              "  "
            ]
          },
          "metadata": {}
        },
        {
          "output_type": "display_data",
          "data": {
            "text/plain": [
              "<IPython.core.display.Javascript object>"
            ],
            "application/javascript": [
              "download(\"download_d3915239-355c-4d6c-9b89-9b197e62bfb7\", \"BD_Project_Keras_Team31_3.csv\", 212908)"
            ]
          },
          "metadata": {}
        }
      ]
    }
  ],
  "metadata": {
    "accelerator": "GPU",
    "colab": {
      "collapsed_sections": [],
      "name": "Digit_Recognizer.ipynb",
      "provenance": []
    },
    "kernelspec": {
      "display_name": "Python 3",
      "name": "python3"
    },
    "language_info": {
      "name": "python"
    }
  },
  "nbformat": 4,
  "nbformat_minor": 0
}